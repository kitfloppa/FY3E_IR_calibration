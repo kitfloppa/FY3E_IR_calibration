{
 "cells": [
  {
   "cell_type": "code",
   "execution_count": 2,
   "metadata": {},
   "outputs": [],
   "source": [
    "import os\n",
    "import h5py\n",
    "import struct\n",
    "import numpy as np\n",
    "import configparser"
   ]
  },
  {
   "cell_type": "code",
   "execution_count": 3,
   "metadata": {},
   "outputs": [
    {
     "data": {
      "text/plain": [
       "['MAIN_DATA_PATH', 'FY3', 'HIMAWARI']"
      ]
     },
     "execution_count": 3,
     "metadata": {},
     "output_type": "execute_result"
    }
   ],
   "source": [
    "config = configparser.ConfigParser()\n",
    "config.read('file_paths.ini')\n",
    "config.sections()"
   ]
  },
  {
   "cell_type": "code",
   "execution_count": 4,
   "metadata": {},
   "outputs": [],
   "source": [
    "# File paths for FengYun-3E data.\n",
    "FY3E_DATA_FOLDERS_LOCATION = config['FY3']['FY3E_MAIN_DATA_LOCATION']\n",
    "FY3E_RAW_DATA_LOCATION = config['FY3']['FY3E_RAW_DATA_LOCATION']\n",
    "FY3E_L0_DATA_LOCATION = config['FY3']['FY3E_L0_DATA_LOCATION']\n",
    "FY3E_L1_DATA_LOCATION = config['FY3']['FY3E_L1_DATA_LOCATION']\n",
    "FY3E_L1_GOE_DATA_LOCATION = config['FY3']['FY3E_L1_GOE_DATA_LOCATION']\n",
    "FY3E_L1_IMAGE_DATA_LOCATION = config['FY3']['FY3E_L1_IMAGE_DATA_LOCATION']\n",
    "FY3E_L1_GEOREF_IMAGE_DATA_LOCATION = config['FY3']['FY3E_L1_GEOREF_IMAGE_DATA_LOCATION']"
   ]
  },
  {
   "cell_type": "code",
   "execution_count": 5,
   "metadata": {},
   "outputs": [
    {
     "name": "stdout",
     "output_type": "stream",
     "text": [
      "L0 files - ['E:/Satellite data/FY-3E/L0/Y3E_08534_230226070855_7860R_MERSI.DAT']\n",
      "\n",
      "GEO files - ['E:/Satellite data/FY-3E/L1/geo/FY3E_MERSI_GRAN_L1_20230228_2215_GEOQK_V0.HDF']\n",
      "\n",
      "Image files - ['E:/Satellite data/FY-3E/L1/image/FY3E_MERSI_GRAN_L1_20230228_2215_0250M_V0.HDF']\n"
     ]
    }
   ],
   "source": [
    "fy3e_L0_files_paths = [FY3E_L0_DATA_LOCATION + file_name for file_name in os.listdir(FY3E_L0_DATA_LOCATION)]\n",
    "fy3e_l1_geo_files_paths = [FY3E_L1_GOE_DATA_LOCATION + file_name for file_name in os.listdir(FY3E_L1_GOE_DATA_LOCATION)]\n",
    "fy3e_l1_image_files_paths = [FY3E_L1_IMAGE_DATA_LOCATION + file_name for file_name in os.listdir(FY3E_L1_IMAGE_DATA_LOCATION)]\n",
    "\n",
    "print('L0 files -', fy3e_L0_files_paths)\n",
    "print()\n",
    "print('GEO files -', fy3e_l1_geo_files_paths)\n",
    "print()\n",
    "print('Image files -', fy3e_l1_image_files_paths)"
   ]
  },
  {
   "cell_type": "code",
   "execution_count": 6,
   "metadata": {},
   "outputs": [],
   "source": [
    "with open(fy3e_L0_files_paths[0], 'rb') as fr:\n",
    "    l0_file = fr.read()"
   ]
  },
  {
   "cell_type": "code",
   "execution_count": 14,
   "metadata": {},
   "outputs": [
    {
     "ename": "error",
     "evalue": "unpack requires a buffer of 0 bytes",
     "output_type": "error",
     "traceback": [
      "\u001b[1;31m---------------------------------------------------------------------------\u001b[0m",
      "\u001b[1;31merror\u001b[0m                                     Traceback (most recent call last)",
      "Cell \u001b[1;32mIn[14], line 1\u001b[0m\n\u001b[1;32m----> 1\u001b[0m (eight, N) \u001b[38;5;241m=\u001b[39m \u001b[43mstruct\u001b[49m\u001b[38;5;241;43m.\u001b[39;49m\u001b[43munpack\u001b[49m\u001b[43m(\u001b[49m\u001b[38;5;124;43m'\u001b[39;49m\u001b[38;5;124;43m@\u001b[39;49m\u001b[38;5;124;43m'\u001b[39;49m\u001b[43m,\u001b[49m\u001b[43m \u001b[49m\u001b[43ml0_file\u001b[49m\u001b[43m)\u001b[49m\n",
      "\u001b[1;31merror\u001b[0m: unpack requires a buffer of 0 bytes"
     ]
    }
   ],
   "source": [
    "(eight, N) = struct.unpack('@', l0_file)"
   ]
  },
  {
   "cell_type": "code",
   "execution_count": 18,
   "metadata": {},
   "outputs": [],
   "source": [
    "data = h5py.File(fy3e_l1_geo_files_paths[0])"
   ]
  },
  {
   "cell_type": "code",
   "execution_count": 19,
   "metadata": {},
   "outputs": [
    {
     "data": {
      "text/plain": [
       "{'AdditionalAnnotation': b'XU Hanlie:+86-10-68406763; xuhanlie@cma.gov.cnMERSI Geolocation use GPS data.',\n",
       " 'AscendingNodeLongitude': array([17143379.], dtype='>f8'),\n",
       " 'Calibration Parameter Revision Date': b'2021-07-09',\n",
       " 'Count_CaliErr_Scans': array([0], dtype='>i2'),\n",
       " 'Count_GeolErr_Scans': array([4], dtype='>i2'),\n",
       " 'Data Creating Date': b'2023-03-01',\n",
       " 'Data Creating Time': b'01:34:09.000',\n",
       " 'Data Integrity': array([0], dtype=uint8),\n",
       " 'Dataset Name': b'MERSI L1 SDR 250m  Data',\n",
       " 'Day Or Night Flag': b'N',\n",
       " 'EarthSun Distance Ratio': array([0.99071637], dtype='>f8'),\n",
       " 'Eccentricity': array([52252.], dtype='>f8'),\n",
       " 'EpochTime': array([230228.], dtype='>f8'),\n",
       " 'File Alias Name': b'MERSI_L1_SDR_250M',\n",
       " 'File Name': b'FY3E_MERSI_GRAN_L1_20230228_2215_GEOQK_V0.HDF',\n",
       " 'MeanAnomaly': array([55016972.], dtype='>f8'),\n",
       " 'MeanMotion': array([103490.], dtype='>f8'),\n",
       " 'Number Of Day mode scans': array([0], dtype='>i4'),\n",
       " 'Number Of Scans': array([200], dtype='>i4'),\n",
       " 'Number of Night mode scans': array([200], dtype='>i4'),\n",
       " 'Observing Beginning Date': b'2023-02-28',\n",
       " 'Observing Beginning Time': b'22:15:01.249',\n",
       " 'Observing Ending Date': b'2023-02-28',\n",
       " 'Observing Ending Time': b'22:19:59.756',\n",
       " 'Orbit Direction': b'D',\n",
       " 'Orbit Number': array([8570], dtype='>u4'),\n",
       " 'Orbit Period(min.)': array([102], dtype='>u2'),\n",
       " 'Orbit Point Latitude': array([44.893303, 40.711838, 27.444077, 23.915026], dtype='>f4'),\n",
       " 'Orbit Point Longitude': array([101.54276, 131.91241,  99.79148, 124.42676], dtype='>f4'),\n",
       " 'OrbitalInclination': array([27454864.], dtype='>f8'),\n",
       " 'PerigeeArgument': array([67207638.], dtype='>f8'),\n",
       " 'Reference Ellipsoid Model ID': b'WGS84',\n",
       " 'Responser': b'NSMC',\n",
       " 'Satellite Name': b'FY-3E',\n",
       " 'Sensor Identification Code': b'MERSI LL',\n",
       " 'Sensor Name': b'Medium Resolution Spectral Imager LL',\n",
       " 'Software Revision Date': b'2021-11-19',\n",
       " 'Successfully pre-processed Scans': array([199], dtype='>i4'),\n",
       " 'Version Of Calibration Parameter': b'V 1.0.1',\n",
       " 'Version Of Software': b'V 1.0.1'}"
      ]
     },
     "execution_count": 19,
     "metadata": {},
     "output_type": "execute_result"
    }
   ],
   "source": [
    "dict(data.attrs.items())"
   ]
  }
 ],
 "metadata": {
  "kernelspec": {
   "display_name": ".venv",
   "language": "python",
   "name": "python3"
  },
  "language_info": {
   "codemirror_mode": {
    "name": "ipython",
    "version": 3
   },
   "file_extension": ".py",
   "mimetype": "text/x-python",
   "name": "python",
   "nbconvert_exporter": "python",
   "pygments_lexer": "ipython3",
   "version": "3.11.4"
  }
 },
 "nbformat": 4,
 "nbformat_minor": 2
}
